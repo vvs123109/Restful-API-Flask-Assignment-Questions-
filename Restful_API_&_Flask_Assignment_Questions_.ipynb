{
  "nbformat": 4,
  "nbformat_minor": 0,
  "metadata": {
    "colab": {
      "provenance": []
    },
    "kernelspec": {
      "name": "python3",
      "display_name": "Python 3"
    },
    "language_info": {
      "name": "python"
    }
  },
  "cells": [
    {
      "cell_type": "markdown",
      "source": [
        "# Restful API & Flask Assignment Questions"
      ],
      "metadata": {
        "id": "P1wYXl5AUaU0"
      }
    },
    {
      "cell_type": "markdown",
      "source": [
        "  \n",
        "\n",
        "### 1. What is a RESTful API?  \n",
        "A RESTful API follows REST principles, enabling communication between systems using HTTP methods like GET, POST, PUT, and DELETE.  \n",
        "\n",
        "### 2. Explain the concept of API specification.  \n",
        "An API specification defines how an API should behave, including endpoints, request/response formats, and authentication details.  \n",
        "\n",
        "### 3. What is Flask, and why is it popular for building APIs?  \n",
        "Flask is a lightweight Python web framework that is simple, flexible, and easy to use for building APIs and web applications.  \n",
        "\n",
        "### 4. What is routing in Flask?  \n",
        "Routing in Flask maps URLs to specific functions using the `@app.route()` decorator to define API endpoints.  \n",
        "\n",
        "### 5. How do you create a simple Flask application?  \n",
        "Install Flask, define an `app.py`, import `Flask`, create an app instance, define routes, and run the app using `app.run()`.  \n",
        "\n",
        "### 6. What are HTTP methods used in RESTful APIs?  \n",
        "Common HTTP methods include GET (fetch data), POST (create data), PUT (update data), DELETE (remove data), and PATCH (modify data).  \n",
        "\n",
        "### 7. What is the purpose of the `@app.route()` decorator in Flask?  \n",
        "It binds a URL to a function, defining an endpoint that executes when the URL is accessed.  \n",
        "\n",
        "### 8. What is the difference between GET and POST HTTP methods?  \n",
        "GET retrieves data without modifying the server, while POST sends data to the server to create new resources.  \n",
        "\n",
        "### 9. How do you handle errors in Flask APIs?  \n",
        "Use Flask's `abort()` function, error handlers (`@app.errorhandler()`), and proper HTTP status codes.  \n",
        "\n",
        "### 10. How do you connect Flask to a SQL database?  \n",
        "Use Flask-SQLAlchemy to define models and manage database interactions using SQL commands in Python.  \n",
        "\n",
        "### 11. What is the role of Flask-SQLAlchemy?  \n",
        "It integrates SQLAlchemy with Flask, making it easier to work with databases using Python objects.  \n",
        "\n",
        "### 12. What are Flask blueprints, and how are they useful?  \n",
        "Blueprints allow modularization by defining routes in separate files, improving maintainability and scalability.  \n",
        "\n",
        "### 13. What is the purpose of Flask's request object?  \n",
        "The `request` object provides access to incoming request data, including headers, form data, and JSON payloads.  \n",
        "\n",
        "### 14. How do you create a RESTful API endpoint using Flask?  \n",
        "Define a route using `@app.route()`, use HTTP methods (`methods=['GET', 'POST']`), and return JSON responses.  \n",
        "\n",
        "### 15. What is the purpose of Flask’s `jsonify()` function?  \n",
        "It converts Python dictionaries to JSON responses, ensuring proper HTTP formatting.  \n",
        "\n",
        "### 16. Explain Flask’s `url_for()` function.  \n",
        "It dynamically generates URLs for a given function, preventing hardcoding of URLs in templates and routes.  \n",
        "\n",
        "### 17. How does Flask handle static files (CSS, JavaScript, etc.)?  \n",
        "Flask serves static files from the `static/` directory using the `url_for('static', filename='style.css')` function.  \n",
        "\n",
        "### 18. What is an API specification, and how does it help in building a Flask API?  \n",
        "It defines API structure, ensuring consistency, and is used to generate documentation, testing, and integrations.  \n",
        "\n",
        "### 19. What are HTTP status codes, and why are they important in a Flask API?  \n",
        "Status codes indicate the result of a request (e.g., 200 for success, 404 for not found, 500 for server error).  \n",
        "\n",
        "\n",
        "\n",
        "\n",
        "\n",
        "\n",
        "### 20. How do you handle POST requests in Flask?  \n",
        "Use `request.form` for form data, `request.json` for JSON data, and validate input before processing.  \n",
        "\n",
        "### 21. How would you secure a Flask API?  \n",
        "Use authentication (JWT, OAuth), input validation, HTTPS, rate limiting, and proper error handling.  \n",
        "\n",
        "### 22. What is the significance of the Flask-RESTful extension?  \n",
        "It simplifies API development by providing built-in request parsing, serialization, and error handling.  \n",
        "\n",
        "### 23. What is the role of Flask’s session object?  \n",
        "The `session` object stores user data across requests using cookies with optional encryption for security.  \n",
        "\n"
      ],
      "metadata": {
        "id": "J1BxNmTxUmTM"
      }
    },
    {
      "cell_type": "code",
      "execution_count": null,
      "metadata": {
        "id": "d_IAy2PxULn6"
      },
      "outputs": [],
      "source": [
        "from flask import Flask, render_template, request, redirect, url_for, jsonify, session\n",
        "\n",
        "app = Flask(__name__)\n",
        "app.secret_key = 'secret'  # Required for sessions\n",
        "\n",
        "# 1. How do you create a basic Flask application?\n",
        "@app.route('/')\n",
        "def home():\n",
        "    return \"Welcome to Flask!\"\n",
        "\n",
        "\n",
        "\n",
        "# 3. How do you define different routes with different HTTP methods in Flask?\n",
        "@app.route('/submit', methods=['GET', 'POST'])\n",
        "def submit():\n",
        "    if request.method == 'POST':\n",
        "        return \"POST request received\"\n",
        "    return \"GET request received\"\n",
        "\n",
        "# 4. How do you render HTML templates in Flask?\n",
        "@app.route('/template')\n",
        "def template():\n",
        "    return render_template('index.html')  # Ensure 'index.html' exists in the 'templates/' folder\n",
        "\n",
        "# 5. How can you generate URLs for routes in Flask using url_for?\n",
        "@app.route('/profile')\n",
        "def profile():\n",
        "    return redirect(url_for('home'))  # Redirects to the home route\n",
        "\n"
      ]
    },
    {
      "cell_type": "code",
      "source": [
        "\n",
        "\n",
        "# 6. How do you handle forms in Flask?\n",
        "@app.route('/form', methods=['GET', 'POST'])\n",
        "def form():\n",
        "    if request.method == 'POST':\n",
        "        return f\"Received: {request.form['name']}\"\n",
        "    return render_template('form.html')  # Ensure 'form.html' has a form with method POST\n",
        "\n",
        "# 7. How can you validate form data in Flask?\n",
        "@app.route('/validate', methods=['POST'])\n",
        "def validate():\n",
        "    name = request.form.get('name')\n",
        "    if not name:\n",
        "        return \"Name is required!\", 400\n",
        "    return f\"Hello, {name}!\"\n",
        "\n",
        "# 8. How do you manage sessions in Flask?\n",
        "@app.route('/session')\n",
        "def set_session():\n",
        "    session['user'] = 'John'\n",
        "    return \"Session set!\"\n",
        "\n",
        "@app.route('/get_session')\n",
        "def get_session():\n",
        "    return session.get('user', 'No session found')\n",
        "\n",
        "# 9. How do you redirect to a different route in Flask?\n",
        "@app.route('/redirect-home')\n",
        "def redirect_home():\n",
        "    return redirect(url_for('home'))\n",
        "\n",
        "# 10. How do you handle errors in Flask (e.g., 404)?\n",
        "@app.errorhandler(404)\n",
        "def page_not_found(error):\n",
        "    return \"Page Not Found!\", 404\n",
        "\n",
        "\n",
        "\n"
      ],
      "metadata": {
        "id": "gHvkMPw1U-_R"
      },
      "execution_count": null,
      "outputs": []
    },
    {
      "cell_type": "code",
      "source": [
        "# 12. How do you define a custom Jinja filter in Flask?\n",
        "@app.template_filter('reverse')\n",
        "def reverse_filter(s):\n",
        "    return s[::-1]\n",
        "\n",
        "# 13. How can you redirect with query parameters in Flask?\n",
        "@app.route('/redirect-with-params')\n",
        "def redirect_with_params():\n",
        "    return redirect(url_for('home', user='John'))\n",
        "\n",
        "# 14. How do you return JSON responses in Flask?\n",
        "@app.route('/json')\n",
        "def json_response():\n",
        "    return jsonify(message=\"Hello, World!\", status=200)\n",
        "\n"
      ],
      "metadata": {
        "id": "0jxLk30uVPme"
      },
      "execution_count": null,
      "outputs": []
    },
    {
      "cell_type": "code",
      "source": [
        "# 15. How do you capture URL parameters in Flask?\n",
        "@app.route('/user/<username>')\n",
        "def user_profile(username):\n",
        "    return f\"Hello, {username}!\"\n",
        "\n",
        "if __name__ == '__main__':\n",
        "    app.run(debug=True)\n"
      ],
      "metadata": {
        "id": "l4LPM62bVRPi"
      },
      "execution_count": null,
      "outputs": []
    },
    {
      "cell_type": "code",
      "source": [],
      "metadata": {
        "id": "BdO7Cy_kVmgC"
      },
      "execution_count": null,
      "outputs": []
    }
  ]
}